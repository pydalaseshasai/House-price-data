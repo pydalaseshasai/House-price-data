{
 "cells": [
  {
   "cell_type": "code",
   "execution_count": 1,
   "id": "73c106a5",
   "metadata": {},
   "outputs": [],
   "source": [
    "import numpy as np\n",
    "import pandas as pd\n",
    "import matplotlib.pyplot as plt\n",
    "import seaborn as sns\n",
    "from sklearn.model_selection import train_test_split\n",
    "from sklearn.metrics import mean_squared_error,mean_absolute_error,r2_score\n",
    "from sklearn.linear_model import LinearRegression\n",
    "from sklearn import metrics\n",
    "from sklearn import preprocessing\n"
   ]
  },
  {
   "cell_type": "code",
   "execution_count": 2,
   "id": "dd206dc5",
   "metadata": {},
   "outputs": [
    {
     "data": {
      "text/html": [
       "<div>\n",
       "<style scoped>\n",
       "    .dataframe tbody tr th:only-of-type {\n",
       "        vertical-align: middle;\n",
       "    }\n",
       "\n",
       "    .dataframe tbody tr th {\n",
       "        vertical-align: top;\n",
       "    }\n",
       "\n",
       "    .dataframe thead th {\n",
       "        text-align: right;\n",
       "    }\n",
       "</style>\n",
       "<table border=\"1\" class=\"dataframe\">\n",
       "  <thead>\n",
       "    <tr style=\"text-align: right;\">\n",
       "      <th></th>\n",
       "      <th>Id</th>\n",
       "      <th>Dwell_Type</th>\n",
       "      <th>Zone_Class</th>\n",
       "      <th>LotFrontage</th>\n",
       "      <th>LotArea</th>\n",
       "      <th>Road_Type</th>\n",
       "      <th>Alley</th>\n",
       "      <th>Property_Shape</th>\n",
       "      <th>LandContour</th>\n",
       "      <th>Utilities</th>\n",
       "      <th>...</th>\n",
       "      <th>PoolArea</th>\n",
       "      <th>PoolQC</th>\n",
       "      <th>Fence</th>\n",
       "      <th>MiscFeature</th>\n",
       "      <th>MiscVal</th>\n",
       "      <th>MoSold</th>\n",
       "      <th>YrSold</th>\n",
       "      <th>SaleType</th>\n",
       "      <th>SaleCondition</th>\n",
       "      <th>Property_Sale_Price</th>\n",
       "    </tr>\n",
       "  </thead>\n",
       "  <tbody>\n",
       "    <tr>\n",
       "      <th>0</th>\n",
       "      <td>1</td>\n",
       "      <td>60</td>\n",
       "      <td>RL</td>\n",
       "      <td>65.0</td>\n",
       "      <td>8450</td>\n",
       "      <td>Pave</td>\n",
       "      <td>NaN</td>\n",
       "      <td>Reg</td>\n",
       "      <td>Lvl</td>\n",
       "      <td>AllPub</td>\n",
       "      <td>...</td>\n",
       "      <td>0</td>\n",
       "      <td>NaN</td>\n",
       "      <td>NaN</td>\n",
       "      <td>NaN</td>\n",
       "      <td>0</td>\n",
       "      <td>2</td>\n",
       "      <td>2008</td>\n",
       "      <td>WD</td>\n",
       "      <td>Normal</td>\n",
       "      <td>208500</td>\n",
       "    </tr>\n",
       "    <tr>\n",
       "      <th>1</th>\n",
       "      <td>2</td>\n",
       "      <td>20</td>\n",
       "      <td>RL</td>\n",
       "      <td>80.0</td>\n",
       "      <td>9600</td>\n",
       "      <td>Pave</td>\n",
       "      <td>NaN</td>\n",
       "      <td>Reg</td>\n",
       "      <td>Lvl</td>\n",
       "      <td>AllPub</td>\n",
       "      <td>...</td>\n",
       "      <td>0</td>\n",
       "      <td>NaN</td>\n",
       "      <td>NaN</td>\n",
       "      <td>NaN</td>\n",
       "      <td>0</td>\n",
       "      <td>5</td>\n",
       "      <td>2007</td>\n",
       "      <td>WD</td>\n",
       "      <td>Normal</td>\n",
       "      <td>181500</td>\n",
       "    </tr>\n",
       "    <tr>\n",
       "      <th>2</th>\n",
       "      <td>3</td>\n",
       "      <td>60</td>\n",
       "      <td>RL</td>\n",
       "      <td>68.0</td>\n",
       "      <td>11250</td>\n",
       "      <td>Pave</td>\n",
       "      <td>NaN</td>\n",
       "      <td>IR1</td>\n",
       "      <td>Lvl</td>\n",
       "      <td>AllPub</td>\n",
       "      <td>...</td>\n",
       "      <td>0</td>\n",
       "      <td>NaN</td>\n",
       "      <td>NaN</td>\n",
       "      <td>NaN</td>\n",
       "      <td>0</td>\n",
       "      <td>9</td>\n",
       "      <td>2008</td>\n",
       "      <td>WD</td>\n",
       "      <td>Normal</td>\n",
       "      <td>223500</td>\n",
       "    </tr>\n",
       "    <tr>\n",
       "      <th>3</th>\n",
       "      <td>4</td>\n",
       "      <td>70</td>\n",
       "      <td>RL</td>\n",
       "      <td>60.0</td>\n",
       "      <td>9550</td>\n",
       "      <td>Pave</td>\n",
       "      <td>NaN</td>\n",
       "      <td>IR1</td>\n",
       "      <td>Lvl</td>\n",
       "      <td>AllPub</td>\n",
       "      <td>...</td>\n",
       "      <td>0</td>\n",
       "      <td>NaN</td>\n",
       "      <td>NaN</td>\n",
       "      <td>NaN</td>\n",
       "      <td>0</td>\n",
       "      <td>2</td>\n",
       "      <td>2006</td>\n",
       "      <td>WD</td>\n",
       "      <td>Abnorml</td>\n",
       "      <td>140000</td>\n",
       "    </tr>\n",
       "    <tr>\n",
       "      <th>4</th>\n",
       "      <td>5</td>\n",
       "      <td>60</td>\n",
       "      <td>RL</td>\n",
       "      <td>84.0</td>\n",
       "      <td>14260</td>\n",
       "      <td>Pave</td>\n",
       "      <td>NaN</td>\n",
       "      <td>IR1</td>\n",
       "      <td>Lvl</td>\n",
       "      <td>AllPub</td>\n",
       "      <td>...</td>\n",
       "      <td>0</td>\n",
       "      <td>NaN</td>\n",
       "      <td>NaN</td>\n",
       "      <td>NaN</td>\n",
       "      <td>0</td>\n",
       "      <td>12</td>\n",
       "      <td>2008</td>\n",
       "      <td>WD</td>\n",
       "      <td>Normal</td>\n",
       "      <td>250000</td>\n",
       "    </tr>\n",
       "  </tbody>\n",
       "</table>\n",
       "<p>5 rows × 81 columns</p>\n",
       "</div>"
      ],
      "text/plain": [
       "   Id  Dwell_Type Zone_Class  LotFrontage  LotArea Road_Type Alley  \\\n",
       "0   1          60         RL         65.0     8450      Pave   NaN   \n",
       "1   2          20         RL         80.0     9600      Pave   NaN   \n",
       "2   3          60         RL         68.0    11250      Pave   NaN   \n",
       "3   4          70         RL         60.0     9550      Pave   NaN   \n",
       "4   5          60         RL         84.0    14260      Pave   NaN   \n",
       "\n",
       "  Property_Shape LandContour Utilities  ... PoolArea PoolQC Fence MiscFeature  \\\n",
       "0            Reg         Lvl    AllPub  ...        0    NaN   NaN         NaN   \n",
       "1            Reg         Lvl    AllPub  ...        0    NaN   NaN         NaN   \n",
       "2            IR1         Lvl    AllPub  ...        0    NaN   NaN         NaN   \n",
       "3            IR1         Lvl    AllPub  ...        0    NaN   NaN         NaN   \n",
       "4            IR1         Lvl    AllPub  ...        0    NaN   NaN         NaN   \n",
       "\n",
       "  MiscVal MoSold YrSold  SaleType  SaleCondition  Property_Sale_Price  \n",
       "0       0      2   2008        WD         Normal               208500  \n",
       "1       0      5   2007        WD         Normal               181500  \n",
       "2       0      9   2008        WD         Normal               223500  \n",
       "3       0      2   2006        WD        Abnorml               140000  \n",
       "4       0     12   2008        WD         Normal               250000  \n",
       "\n",
       "[5 rows x 81 columns]"
      ]
     },
     "execution_count": 2,
     "metadata": {},
     "output_type": "execute_result"
    }
   ],
   "source": [
    "df=pd.read_csv('https://raw.githubusercontent.com/Premalatha-success/Datasets/main/HousePrices.csv')\n",
    "df.head()"
   ]
  },
  {
   "cell_type": "code",
   "execution_count": 50,
   "id": "13be6ded",
   "metadata": {},
   "outputs": [
    {
     "data": {
      "text/plain": [
       "Dwell_Type                object\n",
       "LotFrontage              float64\n",
       "LotArea                    int64\n",
       "YearBuilt                  int64\n",
       "YearRemodAdd               int64\n",
       "MasVnrArea               float64\n",
       "BsmtFinSF1                 int64\n",
       "BsmtUnfSF                  int64\n",
       "TotalBsmtSF                int64\n",
       "1stFlrSF                   int64\n",
       "2ndFlrSF                   int64\n",
       "GrLivArea                  int64\n",
       "BsmtFullBath               int64\n",
       "FullBath                   int64\n",
       "HalfBath                   int64\n",
       "BedroomAbvGr               int64\n",
       "KitchenAbvGr               int64\n",
       "TotRmsAbvGrd               int64\n",
       "Fireplaces                 int64\n",
       "GarageYrBlt              float64\n",
       "GarageCars                 int64\n",
       "GarageArea                 int64\n",
       "WoodDeckSF                 int64\n",
       "OpenPorchSF                int64\n",
       "EnclosedPorch              int64\n",
       "3SsnPorch                  int64\n",
       "ScreenPorch                int64\n",
       "MoSold                     int64\n",
       "Property_Sale_Price        int64\n",
       "Zone_Class_C (all)         uint8\n",
       "                          ...   \n",
       "GarageCond_Fa              uint8\n",
       "GarageCond_Gd              uint8\n",
       "GarageCond_Po              uint8\n",
       "GarageCond_TA              uint8\n",
       "PavedDrive_N               uint8\n",
       "PavedDrive_P               uint8\n",
       "PavedDrive_Y               uint8\n",
       "Fence_GdPrv                uint8\n",
       "Fence_GdWo                 uint8\n",
       "Fence_MnPrv                uint8\n",
       "Fence_MnWw                 uint8\n",
       "MiscFeature_Gar2           uint8\n",
       "MiscFeature_Othr           uint8\n",
       "MiscFeature_Shed           uint8\n",
       "MiscFeature_TenC           uint8\n",
       "SaleType_COD               uint8\n",
       "SaleType_CWD               uint8\n",
       "SaleType_Con               uint8\n",
       "SaleType_ConLD             uint8\n",
       "SaleType_ConLI             uint8\n",
       "SaleType_ConLw             uint8\n",
       "SaleType_New               uint8\n",
       "SaleType_Oth               uint8\n",
       "SaleType_WD                uint8\n",
       "SaleCondition_Abnorml      uint8\n",
       "SaleCondition_AdjLand      uint8\n",
       "SaleCondition_Alloca       uint8\n",
       "SaleCondition_Family       uint8\n",
       "SaleCondition_Normal       uint8\n",
       "SaleCondition_Partial      uint8\n",
       "Length: 297, dtype: object"
      ]
     },
     "execution_count": 50,
     "metadata": {},
     "output_type": "execute_result"
    }
   ],
   "source": [
    "df.dtypes"
   ]
  },
  {
   "cell_type": "code",
   "execution_count": 49,
   "id": "4265cecf",
   "metadata": {},
   "outputs": [],
   "source": [
    "from warnings import filterwarnings\n",
    "filterwarnings('ignore')"
   ]
  },
  {
   "cell_type": "code",
   "execution_count": 51,
   "id": "3e79e9dc",
   "metadata": {},
   "outputs": [],
   "source": [
    "pd.options.display.max_columns=None\n",
    "pd.options.display.min_rows=None\n"
   ]
  },
  {
   "cell_type": "code",
   "execution_count": 6,
   "id": "8abca20b",
   "metadata": {},
   "outputs": [],
   "source": [
    "df['Dwell_Type']=df['Dwell_Type'].astype('O')\n",
    "df['OverallCond']=df['OverallCond'].astype('O')\n",
    "df['OverallQual']=df['OverallQual'].astype('O')"
   ]
  },
  {
   "cell_type": "code",
   "execution_count": 7,
   "id": "fe66eeec",
   "metadata": {},
   "outputs": [],
   "source": [
    "df.drop('Id',axis=1,inplace=True)\n",
    "df.drop('PoolQC',axis=1,inplace=True)\n",
    "df.drop('PoolArea',axis=1,inplace=True)"
   ]
  },
  {
   "cell_type": "code",
   "execution_count": 52,
   "id": "58aeafd7",
   "metadata": {},
   "outputs": [
    {
     "data": {
      "text/plain": [
       "Dwell_Type               0\n",
       "LotFrontage              0\n",
       "LotArea                  0\n",
       "YearBuilt                0\n",
       "YearRemodAdd             0\n",
       "MasVnrArea               0\n",
       "BsmtFinSF1               0\n",
       "BsmtUnfSF                0\n",
       "TotalBsmtSF              0\n",
       "1stFlrSF                 0\n",
       "2ndFlrSF                 0\n",
       "GrLivArea                0\n",
       "BsmtFullBath             0\n",
       "FullBath                 0\n",
       "HalfBath                 0\n",
       "BedroomAbvGr             0\n",
       "KitchenAbvGr             0\n",
       "TotRmsAbvGrd             0\n",
       "Fireplaces               0\n",
       "GarageYrBlt              0\n",
       "GarageCars               0\n",
       "GarageArea               0\n",
       "WoodDeckSF               0\n",
       "OpenPorchSF              0\n",
       "EnclosedPorch            0\n",
       "3SsnPorch                0\n",
       "ScreenPorch              0\n",
       "MoSold                   0\n",
       "Property_Sale_Price      0\n",
       "Zone_Class_C (all)       0\n",
       "                        ..\n",
       "GarageCond_Fa            0\n",
       "GarageCond_Gd            0\n",
       "GarageCond_Po            0\n",
       "GarageCond_TA            0\n",
       "PavedDrive_N             0\n",
       "PavedDrive_P             0\n",
       "PavedDrive_Y             0\n",
       "Fence_GdPrv              0\n",
       "Fence_GdWo               0\n",
       "Fence_MnPrv              0\n",
       "Fence_MnWw               0\n",
       "MiscFeature_Gar2         0\n",
       "MiscFeature_Othr         0\n",
       "MiscFeature_Shed         0\n",
       "MiscFeature_TenC         0\n",
       "SaleType_COD             0\n",
       "SaleType_CWD             0\n",
       "SaleType_Con             0\n",
       "SaleType_ConLD           0\n",
       "SaleType_ConLI           0\n",
       "SaleType_ConLw           0\n",
       "SaleType_New             0\n",
       "SaleType_Oth             0\n",
       "SaleType_WD              0\n",
       "SaleCondition_Abnorml    0\n",
       "SaleCondition_AdjLand    0\n",
       "SaleCondition_Alloca     0\n",
       "SaleCondition_Family     0\n",
       "SaleCondition_Normal     0\n",
       "SaleCondition_Partial    0\n",
       "Length: 297, dtype: int64"
      ]
     },
     "execution_count": 52,
     "metadata": {},
     "output_type": "execute_result"
    }
   ],
   "source": [
    "df.isnull().sum()"
   ]
  },
  {
   "cell_type": "code",
   "execution_count": 12,
   "id": "b3da20ca",
   "metadata": {},
   "outputs": [],
   "source": [
    "mode=df[\"MasVnrArea\"].mode().values[0]\n",
    "df[\"MasVnrArea\"]=df[\"MasVnrArea\"].replace(np.nan,mode)"
   ]
  },
  {
   "cell_type": "code",
   "execution_count": 13,
   "id": "3df8b2d3",
   "metadata": {},
   "outputs": [],
   "source": [
    "df[\"GarageYrBlt\"]=df[\"GarageYrBlt\"].replace(to_replace=\"0\",value=np.nan)\n",
    "df[\"GarageYrBlt\"]=df[\"GarageYrBlt\"].astype(float)\n",
    "median=df[\"GarageYrBlt\"].median()\n",
    "median\n",
    "df[\"GarageYrBlt\"].replace(np.nan,median,inplace=True)"
   ]
  },
  {
   "cell_type": "code",
   "execution_count": 14,
   "id": "74b1625c",
   "metadata": {},
   "outputs": [],
   "source": [
    "mode=df[\"Alley\"].mode().values[0]\n",
    "df[\"Alley\"]=df[\"Alley\"].replace(np.nan,mode)"
   ]
  },
  {
   "cell_type": "code",
   "execution_count": 15,
   "id": "6a25db5c",
   "metadata": {},
   "outputs": [],
   "source": [
    "mode=df[\"MiscFeature\"].mode().values[0]\n",
    "df[\"MiscFeature\"]=df[\"MiscFeature\"].replace(np.nan,mode)"
   ]
  },
  {
   "cell_type": "code",
   "execution_count": 16,
   "id": "268f4e7b",
   "metadata": {},
   "outputs": [],
   "source": [
    "mode=df[\"Fence\"].mode().values[0]\n",
    "df[\"Fence\"]=df[\"Fence\"].replace(np.nan,mode)"
   ]
  },
  {
   "cell_type": "code",
   "execution_count": 17,
   "id": "e165e372",
   "metadata": {},
   "outputs": [],
   "source": [
    "mode=df[\"GarageCond\"].mode().values[0]\n",
    "df[\"GarageCond\"]=df[\"GarageCond\"].replace(np.nan,mode)"
   ]
  },
  {
   "cell_type": "code",
   "execution_count": 18,
   "id": "474f29da",
   "metadata": {},
   "outputs": [],
   "source": [
    "mode=df[\"GarageQual\"].mode().values[0]\n",
    "df[\"GarageQual\"]=df[\"GarageQual\"].replace(np.nan,mode)"
   ]
  },
  {
   "cell_type": "code",
   "execution_count": 19,
   "id": "eb51a1ed",
   "metadata": {},
   "outputs": [],
   "source": [
    "mode=df[\"GarageFinish\"].mode().values[0]\n",
    "df[\"GarageFinish\"]=df[\"GarageFinish\"].replace(np.nan,mode)"
   ]
  },
  {
   "cell_type": "code",
   "execution_count": 20,
   "id": "9a4423d7",
   "metadata": {},
   "outputs": [],
   "source": [
    "mode=df[\"GarageType\"].mode().values[0]\n",
    "df[\"GarageType\"]=df[\"GarageType\"].replace(np.nan,mode)"
   ]
  },
  {
   "cell_type": "code",
   "execution_count": 21,
   "id": "a20f0d62",
   "metadata": {},
   "outputs": [],
   "source": [
    "mode=df[\"FireplaceQu\"].mode().values[0]\n",
    "df[\"FireplaceQu\"]=df[\"FireplaceQu\"].replace(np.nan,mode)"
   ]
  },
  {
   "cell_type": "code",
   "execution_count": 22,
   "id": "00b5a478",
   "metadata": {},
   "outputs": [],
   "source": [
    "mode=df[\"BsmtQual\"].mode().values[0]\n",
    "df[\"BsmtQual\"]=df[\"BsmtQual\"].replace(np.nan,mode)"
   ]
  },
  {
   "cell_type": "code",
   "execution_count": 23,
   "id": "545e8edd",
   "metadata": {},
   "outputs": [],
   "source": [
    "mode=df[\"GarageCond\"].mode().values[0]\n",
    "df[\"GarageCond\"]=df[\"GarageCond\"].replace(np.nan,mode)"
   ]
  },
  {
   "cell_type": "code",
   "execution_count": 24,
   "id": "df79e103",
   "metadata": {},
   "outputs": [
    {
     "data": {
      "text/plain": [
       "Dwell_Type              object\n",
       "Zone_Class              object\n",
       "LotFrontage            float64\n",
       "LotArea                  int64\n",
       "Road_Type               object\n",
       "Alley                   object\n",
       "Property_Shape          object\n",
       "LandContour             object\n",
       "Utilities               object\n",
       "LotConfig               object\n",
       "LandSlope               object\n",
       "Neighborhood            object\n",
       "Condition1              object\n",
       "Condition2              object\n",
       "Dwelling_Type           object\n",
       "HouseStyle              object\n",
       "OverallQual             object\n",
       "OverallCond             object\n",
       "YearBuilt                int64\n",
       "YearRemodAdd             int64\n",
       "RoofStyle               object\n",
       "RoofMatl                object\n",
       "Exterior1st             object\n",
       "Exterior2nd             object\n",
       "MasVnrType              object\n",
       "MasVnrArea             float64\n",
       "ExterQual               object\n",
       "ExterCond               object\n",
       "Foundation              object\n",
       "BsmtQual                object\n",
       "                        ...   \n",
       "FullBath                 int64\n",
       "HalfBath                 int64\n",
       "BedroomAbvGr             int64\n",
       "KitchenAbvGr             int64\n",
       "KitchenQual             object\n",
       "TotRmsAbvGrd             int64\n",
       "Functional              object\n",
       "Fireplaces               int64\n",
       "FireplaceQu             object\n",
       "GarageType              object\n",
       "GarageYrBlt            float64\n",
       "GarageFinish            object\n",
       "GarageCars               int64\n",
       "GarageArea               int64\n",
       "GarageQual              object\n",
       "GarageCond              object\n",
       "PavedDrive              object\n",
       "WoodDeckSF               int64\n",
       "OpenPorchSF              int64\n",
       "EnclosedPorch            int64\n",
       "3SsnPorch                int64\n",
       "ScreenPorch              int64\n",
       "Fence                   object\n",
       "MiscFeature             object\n",
       "MiscVal                  int64\n",
       "MoSold                   int64\n",
       "YrSold                   int64\n",
       "SaleType                object\n",
       "SaleCondition           object\n",
       "Property_Sale_Price      int64\n",
       "Length: 78, dtype: object"
      ]
     },
     "execution_count": 24,
     "metadata": {},
     "output_type": "execute_result"
    }
   ],
   "source": [
    "df.dtypes"
   ]
  },
  {
   "cell_type": "code",
   "execution_count": 25,
   "id": "7900cd97",
   "metadata": {},
   "outputs": [],
   "source": [
    "dummies=pd.get_dummies(df[['Zone_Class','Road_Type','Alley','Property_Shape','LandContour','Utilities','LotConfig','LandSlope','Neighborhood','Condition1','Condition2','Dwelling_Type','HouseStyle','OverallQual','OverallCond','RoofStyle','RoofMatl','Exterior1st','Exterior2nd','MasVnrType','ExterQual','ExterCond','Foundation','BsmtQual','BsmtCond','BsmtExposure','BsmtFinType1','BsmtFinType2','Heating','HeatingQC','CentralAir','Electrical','KitchenQual','Functional','FireplaceQu','GarageType','GarageFinish','GarageQual','GarageCond','PavedDrive','Fence','MiscFeature','SaleType','SaleCondition']],columns=['Zone_Class','Road_Type','Alley','Property_Shape','LandContour','Utilities','LotConfig','LandSlope','Neighborhood','Condition1','Condition2','Dwelling_Type','HouseStyle','OverallQual','OverallCond','RoofStyle','RoofMatl','Exterior1st','Exterior2nd','MasVnrType','ExterQual','ExterCond','Foundation','BsmtQual','BsmtCond','BsmtExposure','BsmtFinType1','BsmtFinType2','Heating','HeatingQC','CentralAir','Electrical','KitchenQual','Functional','FireplaceQu','GarageType','GarageFinish','GarageQual','GarageCond','PavedDrive','Fence','MiscFeature','SaleType','SaleCondition'])\n",
    "df=pd.concat([df,dummies],axis=1)"
   ]
  },
  {
   "cell_type": "code",
   "execution_count": 26,
   "id": "76552987",
   "metadata": {},
   "outputs": [],
   "source": [
    "\n",
    "columns=['Zone_Class','Road_Type','Alley','Property_Shape','LandContour','Utilities','LotConfig','LandSlope','Neighborhood','Condition1','Condition2','Dwelling_Type','HouseStyle','OverallQual','OverallCond','RoofStyle','RoofMatl','Exterior1st','Exterior2nd','MasVnrType','ExterQual','ExterCond','Foundation','BsmtQual','BsmtCond','BsmtExposure','BsmtFinType1','BsmtFinType2','Heating','HeatingQC','CentralAir','Electrical','KitchenQual','Functional','FireplaceQu','GarageType','GarageFinish','GarageQual','GarageCond','PavedDrive','Fence','MiscFeature','SaleType','SaleCondition']\n",
    "df.drop(columns,axis=1,inplace=True)"
   ]
  },
  {
   "cell_type": "code",
   "execution_count": 27,
   "id": "76282b03",
   "metadata": {},
   "outputs": [],
   "source": [
    "df.drop('YrSold',axis=1,inplace=True)\n",
    "df.drop('MiscVal',axis=1,inplace=True)\n",
    "df.drop('BsmtHalfBath',axis=1,inplace=True)\n",
    "df.drop('BsmtFinSF2',axis=1,inplace=True)\n",
    "df.drop('LowQualFinSF',axis=1,inplace=True)"
   ]
  },
  {
   "cell_type": "code",
   "execution_count": 28,
   "id": "4bf0d894",
   "metadata": {},
   "outputs": [],
   "source": [
    "x=df.drop(['Property_Sale_Price'],axis=1)\n",
    "y=df[['Property_Sale_Price']]"
   ]
  },
  {
   "cell_type": "code",
   "execution_count": 29,
   "id": "4a55039d",
   "metadata": {},
   "outputs": [],
   "source": [
    "x_train, x_test, y_train, y_test = train_test_split(x, y, test_size=0.3)"
   ]
  },
  {
   "cell_type": "code",
   "execution_count": 30,
   "id": "7febd7f7",
   "metadata": {},
   "outputs": [
    {
     "data": {
      "text/plain": [
       "LinearRegression()"
      ]
     },
     "execution_count": 30,
     "metadata": {},
     "output_type": "execute_result"
    }
   ],
   "source": [
    "reg=LinearRegression()\n",
    "reg.fit(x_train,y_train)"
   ]
  },
  {
   "cell_type": "code",
   "execution_count": 31,
   "id": "2c1df2e8",
   "metadata": {},
   "outputs": [
    {
     "data": {
      "text/plain": [
       "0.939271739806357"
      ]
     },
     "execution_count": 31,
     "metadata": {},
     "output_type": "execute_result"
    }
   ],
   "source": [
    "reg.score(x_train,y_train)"
   ]
  },
  {
   "cell_type": "code",
   "execution_count": 32,
   "id": "cee83f45",
   "metadata": {},
   "outputs": [
    {
     "data": {
      "text/plain": [
       "0.8398753565595386"
      ]
     },
     "execution_count": 32,
     "metadata": {},
     "output_type": "execute_result"
    }
   ],
   "source": [
    "reg.score(x_test,y_test)"
   ]
  },
  {
   "cell_type": "code",
   "execution_count": 35,
   "id": "8fdce94b",
   "metadata": {},
   "outputs": [],
   "source": [
    "from sklearn.preprocessing import PolynomialFeatures\n",
    "from sklearn import linear_model\n",
    "poly=PolynomialFeatures(degree=1,interaction_only=True)\n",
    "x_train2=poly.fit_transform(x_train)\n",
    "x_test2=poly.fit_transform(x_test)\n",
    "\n",
    "poly_clf=linear_model.LinearRegression()\n",
    "poly_clf.fit(x_train2,y_train)\n",
    "y_pred=poly_clf.predict(x_test2)"
   ]
  },
  {
   "cell_type": "code",
   "execution_count": 36,
   "id": "e583e226",
   "metadata": {},
   "outputs": [
    {
     "name": "stdout",
     "output_type": "stream",
     "text": [
      "0.9392717398063571\n"
     ]
    }
   ],
   "source": [
    "print(poly_clf.score(x_train2,y_train))"
   ]
  },
  {
   "cell_type": "code",
   "execution_count": 37,
   "id": "61672edd",
   "metadata": {},
   "outputs": [
    {
     "name": "stdout",
     "output_type": "stream",
     "text": [
      "0.8398753565595971\n"
     ]
    }
   ],
   "source": [
    "print(poly_clf.score(x_test2,y_test))"
   ]
  },
  {
   "cell_type": "code",
   "execution_count": 39,
   "id": "44750abb",
   "metadata": {},
   "outputs": [],
   "source": [
    "from sklearn.metrics import mean_squared_error,mean_absolute_error\n",
    "y_pred=reg.predict(x_test)"
   ]
  },
  {
   "cell_type": "code",
   "execution_count": 40,
   "id": "f8f875d9",
   "metadata": {},
   "outputs": [
    {
     "name": "stdout",
     "output_type": "stream",
     "text": [
      "19635.829105256016\n"
     ]
    }
   ],
   "source": [
    "print(mean_absolute_error(y_test,y_pred))"
   ]
  },
  {
   "cell_type": "code",
   "execution_count": 41,
   "id": "ebc88cf5",
   "metadata": {},
   "outputs": [
    {
     "name": "stdout",
     "output_type": "stream",
     "text": [
      "1100699474.0497386\n"
     ]
    }
   ],
   "source": [
    "print(mean_squared_error(y_test,y_pred))"
   ]
  },
  {
   "cell_type": "code",
   "execution_count": 43,
   "id": "db194adb",
   "metadata": {},
   "outputs": [
    {
     "name": "stdout",
     "output_type": "stream",
     "text": [
      "33176.7911958004\n"
     ]
    }
   ],
   "source": [
    "from math import sqrt\n",
    "print(sqrt(mean_squared_error(y_test,y_pred)))"
   ]
  },
  {
   "cell_type": "code",
   "execution_count": 44,
   "id": "4660777b",
   "metadata": {},
   "outputs": [
    {
     "name": "stdout",
     "output_type": "stream",
     "text": [
      "0.8398753565595386\n"
     ]
    }
   ],
   "source": [
    "from sklearn.metrics import r2_score\n",
    "R_square=r2_score(y_test,y_pred)\n",
    "print(R_square)"
   ]
  },
  {
   "cell_type": "code",
   "execution_count": null,
   "id": "d458d367",
   "metadata": {},
   "outputs": [],
   "source": []
  }
 ],
 "metadata": {
  "kernelspec": {
   "display_name": "Python 3 (ipykernel)",
   "language": "python",
   "name": "python3"
  },
  "language_info": {
   "codemirror_mode": {
    "name": "ipython",
    "version": 3
   },
   "file_extension": ".py",
   "mimetype": "text/x-python",
   "name": "python",
   "nbconvert_exporter": "python",
   "pygments_lexer": "ipython3",
   "version": "3.9.7"
  }
 },
 "nbformat": 4,
 "nbformat_minor": 5
}
